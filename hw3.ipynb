{
 "cells": [
  {
   "cell_type": "markdown",
   "metadata": {},
   "source": [
    "Задание 1"
   ]
  },
  {
   "cell_type": "code",
   "execution_count": 8,
   "metadata": {},
   "outputs": [
    {
     "name": "stdout",
     "output_type": "stream",
     "text": [
      "Введите слово: интервенция\n",
      "в\n"
     ]
    }
   ],
   "source": [
    "Str_ = input(\"Введите слово: \")\n",
    "id_str = len(Str_) / 2\n",
    "if len(Str_) % 2 == 0:        \n",
    "    print(Str_[int(id_str)-1:int(id_str)+1])    \n",
    "elif id_str % 2 !=0:\n",
    "    print(Str_[int(id_str)])"
   ]
  },
  {
   "cell_type": "markdown",
   "metadata": {},
   "source": [
    "Задание 2"
   ]
  },
  {
   "cell_type": "code",
   "execution_count": 46,
   "metadata": {},
   "outputs": [
    {
     "name": "stdout",
     "output_type": "stream",
     "text": [
      "Введите число: 0\n",
      "Сумма = 0\n"
     ]
    }
   ],
   "source": [
    "x = int(input(\"Введите число: \"))\n",
    "res = 0\n",
    "while x !=0:\n",
    "    res += x \n",
    "    x = int(input(\"Введите число: \"))\n",
    "print('Сумма =', res)"
   ]
  },
  {
   "cell_type": "markdown",
   "metadata": {},
   "source": [
    "Задание 3"
   ]
  },
  {
   "cell_type": "code",
   "execution_count": 103,
   "metadata": {
    "scrolled": true
   },
   "outputs": [
    {
     "name": "stdout",
     "output_type": "stream",
     "text": [
      "Alex и Emma\n",
      "Arthur и Kate\n",
      "John и Kira\n",
      "Peter и Liza\n",
      "Richard и Trisha\n"
     ]
    }
   ],
   "source": [
    "boys = ['Peter', 'Alex', 'John', 'Arthur', 'Richard']\n",
    "girls = ['Kate', 'Liza', 'Kira', 'Emma','Trisha']\n",
    "if len(boys) == len(girls):\n",
    "    for boy, girl in zip(sorted(boys), sorted(girls)):\n",
    "        print(f\"{boy} и {girl}\")\n",
    "else:\n",
    "    print('Внимание, кто-то может остаться без пар')"
   ]
  },
  {
   "cell_type": "markdown",
   "metadata": {},
   "source": [
    "Задание 4"
   ]
  },
  {
   "cell_type": "code",
   "execution_count": 26,
   "metadata": {
    "scrolled": true
   },
   "outputs": [
    {
     "name": "stdout",
     "output_type": "stream",
     "text": [
      "Результат:\n",
      " \n",
      "Средняя температура в странах:\n",
      "Thailand - 23.86 C\n",
      "Germany - 13.8 C\n",
      "Russia - 3.71 C\n",
      "Poland - 12.0 C\n"
     ]
    }
   ],
   "source": [
    "countries_temperature = [\n",
    "['Thailand', [75.2, 77, 78.8, 73.4, 68, 75.2, 77,]],\n",
    "['Germany', [57.2, 55.4, 59, 59, 53.6]],\n",
    "['Russia', [35.6, 37.4, 39.2, 41, 42.8, 39.2, 35.6]],\n",
    "['Poland', [50, 50, 53.6, 57.2, 55.4, 55.4]]\n",
    "]\n",
    "print(\"Результат:\")\n",
    "print(\" \")\n",
    "print(\"Средняя температура в странах:\")\n",
    "for country, temp in countries_temperature:\n",
    "    sred = sum(temp) / len(temp)\n",
    "    c = ((sred - 32) * 5/9)\n",
    "    print(f\"{country} - {round(c,2)} C\")"
   ]
  }
 ],
 "metadata": {
  "kernelspec": {
   "display_name": "Python 3",
   "language": "python",
   "name": "python3"
  },
  "language_info": {
   "codemirror_mode": {
    "name": "ipython",
    "version": 3
   },
   "file_extension": ".py",
   "mimetype": "text/x-python",
   "name": "python",
   "nbconvert_exporter": "python",
   "pygments_lexer": "ipython3",
   "version": "3.8.3"
  }
 },
 "nbformat": 4,
 "nbformat_minor": 4
}
